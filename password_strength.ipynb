{
  "nbformat": 4,
  "nbformat_minor": 0,
  "metadata": {
    "colab": {
      "name": "password_sttrength.ipynb",
      "provenance": [],
      "collapsed_sections": []
    },
    "kernelspec": {
      "name": "python3",
      "display_name": "Python 3"
    }
  },
  "cells": [
    {
      "cell_type": "code",
      "metadata": {
        "id": "WAPmuqXN4nrX",
        "colab_type": "code",
        "colab": {}
      },
      "source": [
        "import numpy as np\n",
        "import pandas as pd"
      ],
      "execution_count": 1,
      "outputs": []
    },
    {
      "cell_type": "code",
      "metadata": {
        "id": "ZwOps5yz5L2K",
        "colab_type": "code",
        "colab": {
          "base_uri": "https://localhost:8080/",
          "height": 88
        },
        "outputId": "9b76edd2-e4ec-4204-f685-34b27651d6ea"
      },
      "source": [
        "data=pd.read_csv('data.csv',',',error_bad_lines=False)   #if ',' separated line are not properly available , then it i will ignor that line"
      ],
      "execution_count": 2,
      "outputs": [
        {
          "output_type": "stream",
          "text": [
            "b'Skipping line 2810: expected 2 fields, saw 5\\nSkipping line 4641: expected 2 fields, saw 5\\nSkipping line 7171: expected 2 fields, saw 5\\nSkipping line 11220: expected 2 fields, saw 5\\nSkipping line 13809: expected 2 fields, saw 5\\nSkipping line 14132: expected 2 fields, saw 5\\nSkipping line 14293: expected 2 fields, saw 5\\nSkipping line 14865: expected 2 fields, saw 5\\nSkipping line 17419: expected 2 fields, saw 5\\nSkipping line 22801: expected 2 fields, saw 5\\nSkipping line 25001: expected 2 fields, saw 5\\nSkipping line 26603: expected 2 fields, saw 5\\nSkipping line 26742: expected 2 fields, saw 5\\nSkipping line 29702: expected 2 fields, saw 5\\nSkipping line 32767: expected 2 fields, saw 5\\nSkipping line 32878: expected 2 fields, saw 5\\nSkipping line 35643: expected 2 fields, saw 5\\nSkipping line 36550: expected 2 fields, saw 5\\nSkipping line 38732: expected 2 fields, saw 5\\nSkipping line 40567: expected 2 fields, saw 5\\nSkipping line 40576: expected 2 fields, saw 5\\nSkipping line 41864: expected 2 fields, saw 5\\nSkipping line 46861: expected 2 fields, saw 5\\nSkipping line 47939: expected 2 fields, saw 5\\nSkipping line 48628: expected 2 fields, saw 5\\nSkipping line 48908: expected 2 fields, saw 5\\nSkipping line 57582: expected 2 fields, saw 5\\nSkipping line 58782: expected 2 fields, saw 5\\nSkipping line 58984: expected 2 fields, saw 5\\nSkipping line 61518: expected 2 fields, saw 5\\nSkipping line 63451: expected 2 fields, saw 5\\nSkipping line 68141: expected 2 fields, saw 5\\nSkipping line 72083: expected 2 fields, saw 5\\nSkipping line 74027: expected 2 fields, saw 5\\nSkipping line 77811: expected 2 fields, saw 5\\nSkipping line 83958: expected 2 fields, saw 5\\nSkipping line 85295: expected 2 fields, saw 5\\nSkipping line 88665: expected 2 fields, saw 5\\nSkipping line 89198: expected 2 fields, saw 5\\nSkipping line 92499: expected 2 fields, saw 5\\nSkipping line 92751: expected 2 fields, saw 5\\nSkipping line 93689: expected 2 fields, saw 5\\nSkipping line 94776: expected 2 fields, saw 5\\nSkipping line 97334: expected 2 fields, saw 5\\nSkipping line 102316: expected 2 fields, saw 5\\nSkipping line 103421: expected 2 fields, saw 5\\nSkipping line 106872: expected 2 fields, saw 5\\nSkipping line 109363: expected 2 fields, saw 5\\nSkipping line 110117: expected 2 fields, saw 5\\nSkipping line 110465: expected 2 fields, saw 5\\nSkipping line 113843: expected 2 fields, saw 5\\nSkipping line 115634: expected 2 fields, saw 5\\nSkipping line 121518: expected 2 fields, saw 5\\nSkipping line 123692: expected 2 fields, saw 5\\nSkipping line 124708: expected 2 fields, saw 5\\nSkipping line 129608: expected 2 fields, saw 5\\nSkipping line 133176: expected 2 fields, saw 5\\nSkipping line 135532: expected 2 fields, saw 5\\nSkipping line 138042: expected 2 fields, saw 5\\nSkipping line 139485: expected 2 fields, saw 5\\nSkipping line 140401: expected 2 fields, saw 5\\nSkipping line 144093: expected 2 fields, saw 5\\nSkipping line 149850: expected 2 fields, saw 5\\nSkipping line 151831: expected 2 fields, saw 5\\nSkipping line 158014: expected 2 fields, saw 5\\nSkipping line 162047: expected 2 fields, saw 5\\nSkipping line 164515: expected 2 fields, saw 5\\nSkipping line 170313: expected 2 fields, saw 5\\nSkipping line 171325: expected 2 fields, saw 5\\nSkipping line 171424: expected 2 fields, saw 5\\nSkipping line 175920: expected 2 fields, saw 5\\nSkipping line 176210: expected 2 fields, saw 5\\nSkipping line 183603: expected 2 fields, saw 5\\nSkipping line 190264: expected 2 fields, saw 5\\nSkipping line 191683: expected 2 fields, saw 5\\nSkipping line 191988: expected 2 fields, saw 5\\nSkipping line 195450: expected 2 fields, saw 5\\nSkipping line 195754: expected 2 fields, saw 5\\nSkipping line 197124: expected 2 fields, saw 5\\nSkipping line 199263: expected 2 fields, saw 5\\nSkipping line 202603: expected 2 fields, saw 5\\nSkipping line 209960: expected 2 fields, saw 5\\nSkipping line 213218: expected 2 fields, saw 5\\nSkipping line 217060: expected 2 fields, saw 5\\nSkipping line 220121: expected 2 fields, saw 5\\nSkipping line 223518: expected 2 fields, saw 5\\nSkipping line 226293: expected 2 fields, saw 5\\nSkipping line 227035: expected 2 fields, saw 7\\nSkipping line 227341: expected 2 fields, saw 5\\nSkipping line 227808: expected 2 fields, saw 5\\nSkipping line 228516: expected 2 fields, saw 5\\nSkipping line 228733: expected 2 fields, saw 5\\nSkipping line 232043: expected 2 fields, saw 5\\nSkipping line 232426: expected 2 fields, saw 5\\nSkipping line 234490: expected 2 fields, saw 5\\nSkipping line 239626: expected 2 fields, saw 5\\nSkipping line 240461: expected 2 fields, saw 5\\nSkipping line 244518: expected 2 fields, saw 5\\nSkipping line 245395: expected 2 fields, saw 5\\nSkipping line 246168: expected 2 fields, saw 5\\nSkipping line 246655: expected 2 fields, saw 5\\nSkipping line 246752: expected 2 fields, saw 5\\nSkipping line 247189: expected 2 fields, saw 5\\nSkipping line 250276: expected 2 fields, saw 5\\nSkipping line 255327: expected 2 fields, saw 5\\nSkipping line 257094: expected 2 fields, saw 5\\n'\n",
            "b'Skipping line 264626: expected 2 fields, saw 5\\nSkipping line 265028: expected 2 fields, saw 5\\nSkipping line 269150: expected 2 fields, saw 5\\nSkipping line 271360: expected 2 fields, saw 5\\nSkipping line 273975: expected 2 fields, saw 5\\nSkipping line 274742: expected 2 fields, saw 5\\nSkipping line 276227: expected 2 fields, saw 5\\nSkipping line 279807: expected 2 fields, saw 5\\nSkipping line 283425: expected 2 fields, saw 5\\nSkipping line 287468: expected 2 fields, saw 5\\nSkipping line 292995: expected 2 fields, saw 5\\nSkipping line 293496: expected 2 fields, saw 5\\nSkipping line 293735: expected 2 fields, saw 5\\nSkipping line 295060: expected 2 fields, saw 5\\nSkipping line 296643: expected 2 fields, saw 5\\nSkipping line 296848: expected 2 fields, saw 5\\nSkipping line 308926: expected 2 fields, saw 5\\nSkipping line 310360: expected 2 fields, saw 5\\nSkipping line 317004: expected 2 fields, saw 5\\nSkipping line 318207: expected 2 fields, saw 5\\nSkipping line 331783: expected 2 fields, saw 5\\nSkipping line 333864: expected 2 fields, saw 5\\nSkipping line 335958: expected 2 fields, saw 5\\nSkipping line 336290: expected 2 fields, saw 5\\nSkipping line 343526: expected 2 fields, saw 5\\nSkipping line 343857: expected 2 fields, saw 5\\nSkipping line 344059: expected 2 fields, saw 5\\nSkipping line 348691: expected 2 fields, saw 5\\nSkipping line 353446: expected 2 fields, saw 5\\nSkipping line 357073: expected 2 fields, saw 5\\nSkipping line 359753: expected 2 fields, saw 5\\nSkipping line 359974: expected 2 fields, saw 5\\nSkipping line 366534: expected 2 fields, saw 5\\nSkipping line 369514: expected 2 fields, saw 5\\nSkipping line 377759: expected 2 fields, saw 5\\nSkipping line 379327: expected 2 fields, saw 5\\nSkipping line 380769: expected 2 fields, saw 5\\nSkipping line 381073: expected 2 fields, saw 5\\nSkipping line 381489: expected 2 fields, saw 5\\nSkipping line 386304: expected 2 fields, saw 5\\nSkipping line 387635: expected 2 fields, saw 5\\nSkipping line 389613: expected 2 fields, saw 5\\nSkipping line 392604: expected 2 fields, saw 5\\nSkipping line 393184: expected 2 fields, saw 5\\nSkipping line 395530: expected 2 fields, saw 5\\nSkipping line 396939: expected 2 fields, saw 5\\nSkipping line 397385: expected 2 fields, saw 5\\nSkipping line 397509: expected 2 fields, saw 5\\nSkipping line 402902: expected 2 fields, saw 5\\nSkipping line 405187: expected 2 fields, saw 5\\nSkipping line 408412: expected 2 fields, saw 5\\nSkipping line 419423: expected 2 fields, saw 5\\nSkipping line 420962: expected 2 fields, saw 5\\nSkipping line 425965: expected 2 fields, saw 5\\nSkipping line 427496: expected 2 fields, saw 5\\nSkipping line 438881: expected 2 fields, saw 5\\nSkipping line 439776: expected 2 fields, saw 5\\nSkipping line 440345: expected 2 fields, saw 5\\nSkipping line 445507: expected 2 fields, saw 5\\nSkipping line 445548: expected 2 fields, saw 5\\nSkipping line 447184: expected 2 fields, saw 5\\nSkipping line 448603: expected 2 fields, saw 5\\nSkipping line 451732: expected 2 fields, saw 5\\nSkipping line 458249: expected 2 fields, saw 5\\nSkipping line 460274: expected 2 fields, saw 5\\nSkipping line 467630: expected 2 fields, saw 5\\nSkipping line 473961: expected 2 fields, saw 5\\nSkipping line 476281: expected 2 fields, saw 5\\nSkipping line 478010: expected 2 fields, saw 5\\nSkipping line 478322: expected 2 fields, saw 5\\nSkipping line 479999: expected 2 fields, saw 5\\nSkipping line 480898: expected 2 fields, saw 5\\nSkipping line 481688: expected 2 fields, saw 5\\nSkipping line 485193: expected 2 fields, saw 5\\nSkipping line 485519: expected 2 fields, saw 5\\nSkipping line 486000: expected 2 fields, saw 5\\nSkipping line 489063: expected 2 fields, saw 5\\nSkipping line 494525: expected 2 fields, saw 5\\nSkipping line 495009: expected 2 fields, saw 5\\nSkipping line 501954: expected 2 fields, saw 5\\nSkipping line 508035: expected 2 fields, saw 5\\nSkipping line 508828: expected 2 fields, saw 5\\nSkipping line 509833: expected 2 fields, saw 5\\nSkipping line 510410: expected 2 fields, saw 5\\nSkipping line 518229: expected 2 fields, saw 5\\nSkipping line 520302: expected 2 fields, saw 5\\nSkipping line 520340: expected 2 fields, saw 5\\n'\n",
            "b'Skipping line 525174: expected 2 fields, saw 5\\nSkipping line 526251: expected 2 fields, saw 5\\nSkipping line 529611: expected 2 fields, saw 5\\nSkipping line 531398: expected 2 fields, saw 5\\nSkipping line 534146: expected 2 fields, saw 5\\nSkipping line 544954: expected 2 fields, saw 5\\nSkipping line 553002: expected 2 fields, saw 5\\nSkipping line 553883: expected 2 fields, saw 5\\nSkipping line 553887: expected 2 fields, saw 5\\nSkipping line 553915: expected 2 fields, saw 5\\nSkipping line 554172: expected 2 fields, saw 5\\nSkipping line 563534: expected 2 fields, saw 5\\nSkipping line 565191: expected 2 fields, saw 5\\nSkipping line 574108: expected 2 fields, saw 5\\nSkipping line 574412: expected 2 fields, saw 5\\nSkipping line 575985: expected 2 fields, saw 5\\nSkipping line 580091: expected 2 fields, saw 5\\nSkipping line 582682: expected 2 fields, saw 5\\nSkipping line 585885: expected 2 fields, saw 5\\nSkipping line 590171: expected 2 fields, saw 5\\nSkipping line 591924: expected 2 fields, saw 5\\nSkipping line 592515: expected 2 fields, saw 5\\nSkipping line 593888: expected 2 fields, saw 5\\nSkipping line 596245: expected 2 fields, saw 5\\nSkipping line 607344: expected 2 fields, saw 5\\nSkipping line 607633: expected 2 fields, saw 5\\nSkipping line 610939: expected 2 fields, saw 5\\nSkipping line 613638: expected 2 fields, saw 5\\nSkipping line 615643: expected 2 fields, saw 5\\nSkipping line 615901: expected 2 fields, saw 5\\nSkipping line 617389: expected 2 fields, saw 5\\nSkipping line 634641: expected 2 fields, saw 5\\nSkipping line 635755: expected 2 fields, saw 5\\nSkipping line 646243: expected 2 fields, saw 5\\nSkipping line 647165: expected 2 fields, saw 5\\nSkipping line 648610: expected 2 fields, saw 5\\nSkipping line 648772: expected 2 fields, saw 5\\nSkipping line 651833: expected 2 fields, saw 5\\nSkipping line 653663: expected 2 fields, saw 5\\nSkipping line 656233: expected 2 fields, saw 5\\nSkipping line 656694: expected 2 fields, saw 5\\nSkipping line 659783: expected 2 fields, saw 5\\nSkipping line 660478: expected 2 fields, saw 5\\nSkipping line 661133: expected 2 fields, saw 5\\nSkipping line 661736: expected 2 fields, saw 5\\nSkipping line 669827: expected 2 fields, saw 5\\n'\n"
          ],
          "name": "stderr"
        }
      ]
    },
    {
      "cell_type": "code",
      "metadata": {
        "id": "jl3frYxF7REU",
        "colab_type": "code",
        "colab": {
          "base_uri": "https://localhost:8080/",
          "height": 204
        },
        "outputId": "9bf881e5-3561-435b-eed1-aef12643af54"
      },
      "source": [
        "data.head()"
      ],
      "execution_count": 3,
      "outputs": [
        {
          "output_type": "execute_result",
          "data": {
            "text/html": [
              "<div>\n",
              "<style scoped>\n",
              "    .dataframe tbody tr th:only-of-type {\n",
              "        vertical-align: middle;\n",
              "    }\n",
              "\n",
              "    .dataframe tbody tr th {\n",
              "        vertical-align: top;\n",
              "    }\n",
              "\n",
              "    .dataframe thead th {\n",
              "        text-align: right;\n",
              "    }\n",
              "</style>\n",
              "<table border=\"1\" class=\"dataframe\">\n",
              "  <thead>\n",
              "    <tr style=\"text-align: right;\">\n",
              "      <th></th>\n",
              "      <th>password</th>\n",
              "      <th>strength</th>\n",
              "    </tr>\n",
              "  </thead>\n",
              "  <tbody>\n",
              "    <tr>\n",
              "      <th>0</th>\n",
              "      <td>kzde5577</td>\n",
              "      <td>1</td>\n",
              "    </tr>\n",
              "    <tr>\n",
              "      <th>1</th>\n",
              "      <td>kino3434</td>\n",
              "      <td>1</td>\n",
              "    </tr>\n",
              "    <tr>\n",
              "      <th>2</th>\n",
              "      <td>visi7k1yr</td>\n",
              "      <td>1</td>\n",
              "    </tr>\n",
              "    <tr>\n",
              "      <th>3</th>\n",
              "      <td>megzy123</td>\n",
              "      <td>1</td>\n",
              "    </tr>\n",
              "    <tr>\n",
              "      <th>4</th>\n",
              "      <td>lamborghin1</td>\n",
              "      <td>1</td>\n",
              "    </tr>\n",
              "  </tbody>\n",
              "</table>\n",
              "</div>"
            ],
            "text/plain": [
              "      password  strength\n",
              "0     kzde5577         1\n",
              "1     kino3434         1\n",
              "2    visi7k1yr         1\n",
              "3     megzy123         1\n",
              "4  lamborghin1         1"
            ]
          },
          "metadata": {
            "tags": []
          },
          "execution_count": 3
        }
      ]
    },
    {
      "cell_type": "code",
      "metadata": {
        "id": "nhqAAVDW7UsG",
        "colab_type": "code",
        "colab": {
          "base_uri": "https://localhost:8080/",
          "height": 34
        },
        "outputId": "a6750c05-1442-4a68-c919-dbaff76856f9"
      },
      "source": [
        "data['strength'].unique()"
      ],
      "execution_count": 4,
      "outputs": [
        {
          "output_type": "execute_result",
          "data": {
            "text/plain": [
              "array([1, 2, 0])"
            ]
          },
          "metadata": {
            "tags": []
          },
          "execution_count": 4
        }
      ]
    },
    {
      "cell_type": "markdown",
      "metadata": {
        "id": "X_9EYSyd7hQZ",
        "colab_type": "text"
      },
      "source": [
        "\n",
        "0 : Low strength password,\n",
        "1 : medium stength password,\n",
        "2 : high stength password"
      ]
    },
    {
      "cell_type": "code",
      "metadata": {
        "id": "CXV4VeKu7f7_",
        "colab_type": "code",
        "colab": {
          "base_uri": "https://localhost:8080/",
          "height": 68
        },
        "outputId": "8a7656db-4007-43fe-d468-6feb57f0406d"
      },
      "source": [
        "data.isnull().sum()                                  # checking the null values"
      ],
      "execution_count": 5,
      "outputs": [
        {
          "output_type": "execute_result",
          "data": {
            "text/plain": [
              "password    1\n",
              "strength    0\n",
              "dtype: int64"
            ]
          },
          "metadata": {
            "tags": []
          },
          "execution_count": 5
        }
      ]
    },
    {
      "cell_type": "code",
      "metadata": {
        "id": "28ryPc2E7-OI",
        "colab_type": "code",
        "colab": {
          "base_uri": "https://localhost:8080/",
          "height": 80
        },
        "outputId": "0f4dd68e-edc3-4ad0-dac8-c5654159de78"
      },
      "source": [
        "data[data['password'].isnull()]"
      ],
      "execution_count": 6,
      "outputs": [
        {
          "output_type": "execute_result",
          "data": {
            "text/html": [
              "<div>\n",
              "<style scoped>\n",
              "    .dataframe tbody tr th:only-of-type {\n",
              "        vertical-align: middle;\n",
              "    }\n",
              "\n",
              "    .dataframe tbody tr th {\n",
              "        vertical-align: top;\n",
              "    }\n",
              "\n",
              "    .dataframe thead th {\n",
              "        text-align: right;\n",
              "    }\n",
              "</style>\n",
              "<table border=\"1\" class=\"dataframe\">\n",
              "  <thead>\n",
              "    <tr style=\"text-align: right;\">\n",
              "      <th></th>\n",
              "      <th>password</th>\n",
              "      <th>strength</th>\n",
              "    </tr>\n",
              "  </thead>\n",
              "  <tbody>\n",
              "    <tr>\n",
              "      <th>367579</th>\n",
              "      <td>NaN</td>\n",
              "      <td>0</td>\n",
              "    </tr>\n",
              "  </tbody>\n",
              "</table>\n",
              "</div>"
            ],
            "text/plain": [
              "       password  strength\n",
              "367579      NaN         0"
            ]
          },
          "metadata": {
            "tags": []
          },
          "execution_count": 6
        }
      ]
    },
    {
      "cell_type": "code",
      "metadata": {
        "id": "jo9IO18G8XJy",
        "colab_type": "code",
        "colab": {}
      },
      "source": [
        "data.dropna(inplace=True)"
      ],
      "execution_count": 7,
      "outputs": []
    },
    {
      "cell_type": "code",
      "metadata": {
        "id": "vhvKIz7h8gNP",
        "colab_type": "code",
        "colab": {
          "base_uri": "https://localhost:8080/",
          "height": 49
        },
        "outputId": "e7d7e52d-f6f5-4d75-bf04-cf78d51ba022"
      },
      "source": [
        "data[data['password'].isnull()]"
      ],
      "execution_count": 8,
      "outputs": [
        {
          "output_type": "execute_result",
          "data": {
            "text/html": [
              "<div>\n",
              "<style scoped>\n",
              "    .dataframe tbody tr th:only-of-type {\n",
              "        vertical-align: middle;\n",
              "    }\n",
              "\n",
              "    .dataframe tbody tr th {\n",
              "        vertical-align: top;\n",
              "    }\n",
              "\n",
              "    .dataframe thead th {\n",
              "        text-align: right;\n",
              "    }\n",
              "</style>\n",
              "<table border=\"1\" class=\"dataframe\">\n",
              "  <thead>\n",
              "    <tr style=\"text-align: right;\">\n",
              "      <th></th>\n",
              "      <th>password</th>\n",
              "      <th>strength</th>\n",
              "    </tr>\n",
              "  </thead>\n",
              "  <tbody>\n",
              "  </tbody>\n",
              "</table>\n",
              "</div>"
            ],
            "text/plain": [
              "Empty DataFrame\n",
              "Columns: [password, strength]\n",
              "Index: []"
            ]
          },
          "metadata": {
            "tags": []
          },
          "execution_count": 8
        }
      ]
    },
    {
      "cell_type": "code",
      "metadata": {
        "id": "jPMS6viS8jMp",
        "colab_type": "code",
        "colab": {}
      },
      "source": [
        "password_tuples=np.array(data)"
      ],
      "execution_count": 9,
      "outputs": []
    },
    {
      "cell_type": "code",
      "metadata": {
        "id": "imu5ZqMjWBFT",
        "colab_type": "code",
        "colab": {}
      },
      "source": [
        "import random\n",
        "random.shuffle(password_tuples)"
      ],
      "execution_count": 10,
      "outputs": []
    },
    {
      "cell_type": "code",
      "metadata": {
        "id": "79lQ0qQPPVEP",
        "colab_type": "code",
        "colab": {
          "base_uri": "https://localhost:8080/",
          "height": 1000
        },
        "outputId": "0ca14dec-23a0-4672-9064-d047f94d6ee9"
      },
      "source": [
        "x=[i[0] for i in password_tuples]\n",
        "y=[i[1] for i in password_tuples]\n",
        "x"
      ],
      "execution_count": 11,
      "outputs": [
        {
          "output_type": "execute_result",
          "data": {
            "text/plain": [
              "['kzde5577',\n",
              " 'kino3434',\n",
              " 'kino3434',\n",
              " 'kzde5577',\n",
              " 'megzy123',\n",
              " 'lamborghin1',\n",
              " 'megzy123',\n",
              " 'kino3434',\n",
              " 'megzy123',\n",
              " 'v1118714',\n",
              " 'lamborghin1',\n",
              " 'universe2908',\n",
              " '612035180tok',\n",
              " 'visi7k1yr',\n",
              " 'kino3434',\n",
              " 'v1118714',\n",
              " 'g067057895',\n",
              " 'lamborghin1',\n",
              " 'lamborghin1',\n",
              " 'universe2908',\n",
              " 'idofo673',\n",
              " '612035180tok',\n",
              " 'kino3434',\n",
              " 'jerusalem393',\n",
              " '612035180tok',\n",
              " 'lamborghin1',\n",
              " 'faranumar91',\n",
              " 'g067057895',\n",
              " 'jytifok873',\n",
              " '6975038lp',\n",
              " '0169395484a',\n",
              " 'kzde5577',\n",
              " 'jytifok873',\n",
              " 'u6c8vhow',\n",
              " 'go7kew7a2po',\n",
              " 'asv5o9yu',\n",
              " 'prisonbreak1',\n",
              " '52558000aaa',\n",
              " 'kzde5577',\n",
              " 'u6c8vhow',\n",
              " 'czuodhj972',\n",
              " 'AVYq1lDE4MgAZfNt',\n",
              " 'yitbos77',\n",
              " 'sbl571017',\n",
              " 'intel1',\n",
              " '6975038lp',\n",
              " 'go7kew7a2po',\n",
              " 'schalke04',\n",
              " 'trabajonet9',\n",
              " 'as326159',\n",
              " 'elyass15@ajilent-ci',\n",
              " 'ejeko677',\n",
              " 'jytifok873',\n",
              " 'cigicigi123',\n",
              " 'sbl571017',\n",
              " 'as326159',\n",
              " 'kzde5577',\n",
              " 'faranumar91',\n",
              " 'a2531106',\n",
              " 'klara-tershina3H',\n",
              " 'matiofox08',\n",
              " 'asgaliu11',\n",
              " 'asgaliu11',\n",
              " 'asv5o9yu',\n",
              " 'lamborghin1',\n",
              " 'c3h8bkzr',\n",
              " 'patri1973',\n",
              " 'd04m11',\n",
              " 'jerusalem393',\n",
              " 'calcifer32',\n",
              " 'bozoxik602',\n",
              " 'as326159',\n",
              " 'alimagik1',\n",
              " 'il0vey0u',\n",
              " 'cigicigi123',\n",
              " 'yitbos77',\n",
              " 'kino3434',\n",
              " 'gaymaids1',\n",
              " 'ga98SIzk0NwhiZaE',\n",
              " 'hpqkoxsn5',\n",
              " 'bozoxik602',\n",
              " 'idofo673',\n",
              " 'sknq7m0',\n",
              " 'elyass15@ajilent-ci',\n",
              " 'WUt9IZzE0OQ7PkNE',\n",
              " 'bgrvl80',\n",
              " 'rntprns7',\n",
              " 'Iamthelegend1!',\n",
              " 'kjkjkj1',\n",
              " 'klara-tershina3H',\n",
              " 'AVYq1lDE4MgAZfNt',\n",
              " '0169395484a',\n",
              " 'woon12',\n",
              " 'tamanagung6',\n",
              " 'c3h8bkzr',\n",
              " 'WUt9IZzE0OQ7PkNE',\n",
              " 'hodygid757',\n",
              " 'obstacle25',\n",
              " 'woon12',\n",
              " 'patri1973',\n",
              " 'universe2908',\n",
              " 'intel1',\n",
              " '283671gus',\n",
              " 'kunyukbabi69',\n",
              " 'gdfn76',\n",
              " 'klara-tershina3H',\n",
              " 'woon12',\n",
              " 'go7kew7a2po',\n",
              " 'ejeko677',\n",
              " 'ikanez886',\n",
              " 'intel1',\n",
              " '0169395484a',\n",
              " 'juliana19',\n",
              " 'asgaliu11',\n",
              " 'calcifer32',\n",
              " 'TyWM72UNEex8Q8Y',\n",
              " 'openup12',\n",
              " 'p2share',\n",
              " 'exitos2009',\n",
              " '123477889a',\n",
              " 'p2share',\n",
              " 'yqugu927',\n",
              " 'Iamthelegend1!',\n",
              " 'pHyqueDIyNQ8vmhb',\n",
              " 'alimagik1',\n",
              " 'yk530mg8',\n",
              " 'juliana19',\n",
              " '52558000aaa',\n",
              " 'xyws951753',\n",
              " 'a2531106',\n",
              " 'kjkjkj1',\n",
              " 'czuodhj972',\n",
              " 'il0vey0u',\n",
              " 'lsdlsd1',\n",
              " 'c3h8bkzr',\n",
              " 'kjkjkj1',\n",
              " 'hodygid757',\n",
              " '929865yt',\n",
              " 'poseidon2011',\n",
              " 'visi7k1yr',\n",
              " '123477889a',\n",
              " 'mickael12',\n",
              " 'go7kew7a2po',\n",
              " 'fk9qi21m',\n",
              " 'fk9qi21m',\n",
              " 'g3rappa',\n",
              " 'jytifok873',\n",
              " 'fnmsdha476',\n",
              " 'k1k2k3k4k5k6',\n",
              " '6tequila6',\n",
              " 'jalingo1',\n",
              " 'yitbos77',\n",
              " 'yk530mg8',\n",
              " 'xyws951753',\n",
              " 'openup12',\n",
              " 'hodygid757',\n",
              " '52558000aaa',\n",
              " 'jerusalem393',\n",
              " '52558000aaa',\n",
              " 'ok>bdk',\n",
              " 'asv5o9yu',\n",
              " 'jUV4dSDQwNwPpA36',\n",
              " 'w9209640',\n",
              " '746xitEGiqObog',\n",
              " 'damyvo114',\n",
              " 'wisal1234',\n",
              " 'TyWM72UNEex8Q8Y',\n",
              " 'z3ro1sm',\n",
              " '3y6iwef2g6',\n",
              " 'megzy123',\n",
              " 'yllime123',\n",
              " 'omakiva153',\n",
              " '64959rodro',\n",
              " 'pato221182',\n",
              " 'z3ro1sm',\n",
              " 'mazdarx7',\n",
              " '0169395484a',\n",
              " '612035180tok',\n",
              " '10Erjrlmebup0n',\n",
              " '6975038lp',\n",
              " 'nicolas05',\n",
              " '20Dgw7TQ0OQVdly7',\n",
              " 'memjan123',\n",
              " 'asv5o9yu',\n",
              " 'warriors08',\n",
              " '838188linh',\n",
              " 'megzy123',\n",
              " 'x8512514',\n",
              " 'visi7k1yr',\n",
              " 'gill02',\n",
              " 'barra23',\n",
              " 'znbl5tj1',\n",
              " 'b4NbTxDEyNgG141J',\n",
              " 'damyvo114',\n",
              " 'snolyuj04',\n",
              " 'trabajonet9',\n",
              " 'lsdlsd1',\n",
              " 'il0vey0u',\n",
              " 'yitbos77',\n",
              " 's9830950044',\n",
              " 'TyWM72UNEex8Q8Y',\n",
              " 'z7zbgIDkzMQeHUd9',\n",
              " 'sbl571017',\n",
              " 'marita1',\n",
              " 'taurofive16',\n",
              " 'calcifer32',\n",
              " 'yk530mg8',\n",
              " 'barra23',\n",
              " 'd04m11',\n",
              " '2021848709.',\n",
              " 'polo2014',\n",
              " 'juliana19',\n",
              " 'hpqkoxsn5',\n",
              " 'yut0838828185',\n",
              " 'gkrqjs6',\n",
              " 'hodygid757',\n",
              " 'tamanagung6',\n",
              " 'kunyukbabi69',\n",
              " 'change201',\n",
              " '0870330135a',\n",
              " 'ikanez886',\n",
              " '26522876p',\n",
              " 'mmm23mm',\n",
              " 'zoobike04',\n",
              " '5gzj5uf',\n",
              " 'poseidon2011',\n",
              " 'ubojig109',\n",
              " 'cockw0mble',\n",
              " 'olmaz.',\n",
              " 'obstacle25',\n",
              " 'yk530mg8',\n",
              " 'sbl571017',\n",
              " 'ebacuro434',\n",
              " 'yllime123',\n",
              " 'potatobus150',\n",
              " '1972vishara',\n",
              " 'snolyuj04',\n",
              " 'ikanez886',\n",
              " '4osxw4r',\n",
              " 'ikanez886',\n",
              " 'pato221182',\n",
              " 'meriton23',\n",
              " 'aquhih220',\n",
              " 'sbl571017',\n",
              " '612035180tok',\n",
              " 'rogyh820',\n",
              " 'kzde5577',\n",
              " 'gandhi8513',\n",
              " 'tucagu356',\n",
              " 'obstacle25',\n",
              " 'robot425',\n",
              " 'fnmsdha476',\n",
              " 'ldteugao6',\n",
              " 'exitos2009',\n",
              " 'vgnfs495vp',\n",
              " 'kunyukbabi69',\n",
              " 'jalingo1',\n",
              " 'xyws951753',\n",
              " 'cesarmaio1',\n",
              " 'marita1',\n",
              " 'mickael12',\n",
              " 'hodygid757',\n",
              " 'go7kew7a2po',\n",
              " 'xW8-3w7-MFB-CKH',\n",
              " 'znbl5tj1',\n",
              " 'yitbos77',\n",
              " 'rogyh820',\n",
              " 'go7kew7a2po',\n",
              " 'ikanez886',\n",
              " 'woon12',\n",
              " 'c3h8bkzr',\n",
              " 'hayhayq2',\n",
              " 'ekufite742',\n",
              " 'lzhzad1989',\n",
              " 'kikeq102',\n",
              " 'kzde5577',\n",
              " 'kino3434',\n",
              " 'gdfn76',\n",
              " '2021848709.',\n",
              " 'a2531106',\n",
              " 'caramelo9',\n",
              " 'pablo321159',\n",
              " 'w9209640',\n",
              " 'nello11',\n",
              " 'WUt9IZzE0OQ7PkNE',\n",
              " 'pato221182',\n",
              " 'saule123',\n",
              " 'fnmsdha476',\n",
              " '6tequila6',\n",
              " '838188linh',\n",
              " 'tomas7896',\n",
              " 'ldteugao6',\n",
              " 'RPFUOUDQwMwVW0AS',\n",
              " 'mustang337',\n",
              " 'atigi839',\n",
              " 'moimoimoi9',\n",
              " 'yitbos77',\n",
              " 'pHyqueDIyNQ8vmhb',\n",
              " 'asv5o9yu',\n",
              " 'barboza221294',\n",
              " 'bencike7',\n",
              " 'qn5xpg3k00',\n",
              " 'den019520',\n",
              " 'barra23',\n",
              " 'go7kew7a2po',\n",
              " 'marita1',\n",
              " 'bugatti01',\n",
              " 'isqizkg1',\n",
              " 's9830950044',\n",
              " 'wisal1234',\n",
              " 'exitos2009',\n",
              " 'trabajonet9',\n",
              " 'tamanagung6',\n",
              " 'a03242241431a',\n",
              " 'tahseen75',\n",
              " 'asgaliu11',\n",
              " 'patty94',\n",
              " 'rogyh820',\n",
              " 'a2531106',\n",
              " 'fahad123',\n",
              " 'ram@!sita15392',\n",
              " '20010509wang',\n",
              " 'wycinu436',\n",
              " 'iwaguh884',\n",
              " 'ikanez886',\n",
              " 'alimagik1',\n",
              " 'megzy123',\n",
              " 'gdfn76',\n",
              " 'atigi839',\n",
              " 'metopelo1623',\n",
              " 'polo2014',\n",
              " 'woon12',\n",
              " 'jalingo1',\n",
              " 'metopelo1623',\n",
              " '631ihOZogELoVap',\n",
              " 'j09000',\n",
              " 'intel1',\n",
              " 'v10rica',\n",
              " 'mmm23mm',\n",
              " 'koabcswzt3',\n",
              " 'YADHJIGSAWS11',\n",
              " 'ejeko677',\n",
              " 'atigi839',\n",
              " 'bozoxik602',\n",
              " 'cUFUSYKIPuGo024',\n",
              " 'hpqkoxsn5',\n",
              " 'kswa2mrv',\n",
              " 'webstudio8',\n",
              " 'afavin964',\n",
              " 'fnmsdha476',\n",
              " 'omakiva153',\n",
              " 'polo2014',\n",
              " 'intel1',\n",
              " 'cesarmaio1',\n",
              " 'j09000',\n",
              " 'IjUcOtYqAwel725',\n",
              " 'virush1n1',\n",
              " 'yut0838828185',\n",
              " 'xiau5ff',\n",
              " 'asgaliu11',\n",
              " 'krumbul123',\n",
              " 'juliel009',\n",
              " 'ajyrew547',\n",
              " '26522876p',\n",
              " 'jUV4dSDQwNwPpA36',\n",
              " 'xp;ysmybst',\n",
              " 'wuzyci421',\n",
              " 'X9WVojjE4MgVAIiR',\n",
              " 'khmer100.03278&?><Mnb',\n",
              " '4osxw4r',\n",
              " 'shotiko18',\n",
              " 'teemteem97',\n",
              " 'ekufite742',\n",
              " '6975038lp',\n",
              " 'z7zbgIDkzMQeHUd9',\n",
              " 'wxS2ztDk4OATjBfI',\n",
              " 'examy624',\n",
              " 'elonex24',\n",
              " '4osxw4r',\n",
              " 'portales1',\n",
              " 'tahseen75',\n",
              " 'kuntz80',\n",
              " '4165000yakub',\n",
              " 'okn9zp9o',\n",
              " 'han19660120',\n",
              " '123477889a',\n",
              " 'yk530mg8',\n",
              " '2akira2',\n",
              " 'servbot88',\n",
              " 'ts34a3fodh3i',\n",
              " 'shotiko18',\n",
              " 'juliana19',\n",
              " 'tomas7896',\n",
              " 'ninja420',\n",
              " 'gill02',\n",
              " 'fnmsdha476',\n",
              " 'gvczfel801',\n",
              " 'pazzini24',\n",
              " 'den019520',\n",
              " 'alimagik1',\n",
              " 'p2share',\n",
              " 'njmania114',\n",
              " '6tequila6',\n",
              " 'vuqADUSatAJO800',\n",
              " 'hayhayq2',\n",
              " 'clave08',\n",
              " 'sebo82',\n",
              " 'poseidon2011',\n",
              " 'rLLh4WDQ2OAWbDO5',\n",
              " 'kP82iqDMxNgBMxBP',\n",
              " 'mmm23mm',\n",
              " '0VKWoODkwOAc0pZK',\n",
              " 'a2531106',\n",
              " 'seng987321',\n",
              " 'sasuke4',\n",
              " 'elonex24',\n",
              " 'juliel009',\n",
              " 'b4NbTxDEyNgG141J',\n",
              " '4osxw4r',\n",
              " 'just1n0k',\n",
              " 'gozv3e5',\n",
              " 'meopvywk628',\n",
              " 'j09000',\n",
              " '0169395484a',\n",
              " 'denise18',\n",
              " 'balamuc123',\n",
              " 'trabajonet9',\n",
              " '746xitEGiqObog',\n",
              " 'kuntz80',\n",
              " 'kinga22',\n",
              " 'WUt9IZzE0OQ7PkNE',\n",
              " 'asdasdf1',\n",
              " 'xanyrum650',\n",
              " 'barra23',\n",
              " '929865yt',\n",
              " 'woon12',\n",
              " 'khurram_',\n",
              " 'kyodai666',\n",
              " 'studenko123',\n",
              " 'lamborghin1',\n",
              " '123net123',\n",
              " 'ginger972',\n",
              " 'metopelo1623',\n",
              " 'gtlek',\n",
              " 'patri1973',\n",
              " 'jonothepoop1',\n",
              " '123477889a',\n",
              " 'buqodym199',\n",
              " 'oekojWyH120063',\n",
              " 'markama10',\n",
              " 'bc5e4vca',\n",
              " 'pato221182',\n",
              " 'jUV4dSDQwNwPpA36',\n",
              " 'mustang337',\n",
              " 'xf6385494',\n",
              " 'tukaxo486',\n",
              " 'aslpls2009',\n",
              " 'ixehawojEPe418',\n",
              " 'senghong2009',\n",
              " 'tukaxo486',\n",
              " 'jr88072635',\n",
              " 'asgaliu11',\n",
              " '52558000aaa',\n",
              " 'ycqtgdso3',\n",
              " 'spl51190595',\n",
              " 'edcmki90',\n",
              " '3CgRg8DA1NQY1iEj',\n",
              " 'mazdarx7',\n",
              " 'purpledog1992',\n",
              " 'weicat12',\n",
              " 'yhwbzci130',\n",
              " 'examy624',\n",
              " 'v10rica',\n",
              " 'sbaUsoTA1OAzuevI',\n",
              " 'peluchin4',\n",
              " 'senghong2009',\n",
              " 'ns2b0727',\n",
              " 'xf6385494',\n",
              " 'sasuke4',\n",
              " 'ginger972',\n",
              " 'yhwbzci130',\n",
              " 'xlxlxl777',\n",
              " 'bgrvl80',\n",
              " 'tia150979',\n",
              " 'qn5xpg3k00',\n",
              " 'weicat12',\n",
              " 'wibi182d',\n",
              " '147963asd',\n",
              " 'yy4129',\n",
              " '7mV0pKTA3MgHy8Jv',\n",
              " 'beijing168',\n",
              " 'yqugu927',\n",
              " 'woon12',\n",
              " '1597535youssi',\n",
              " 'uxyloga692',\n",
              " 'pugceya468',\n",
              " 'meriton23',\n",
              " 'sasuke4',\n",
              " 'laedbchsx687',\n",
              " 'sbl571017',\n",
              " 'x8512514',\n",
              " 'hlQ8gDTExMQWkeda',\n",
              " 'PEPITO00',\n",
              " 'krumbul123',\n",
              " 'enziitoo1234',\n",
              " 'we34dar88',\n",
              " 'byeypb2',\n",
              " 'kP82iqDMxNgBMxBP',\n",
              " 'warriors08',\n",
              " '1qa2ws3ed4rf',\n",
              " 'Ju6BIMTU0MwYXtL4',\n",
              " 'z888888',\n",
              " 'lamborghin1',\n",
              " 'kyodai666',\n",
              " 'oekojWyH120063',\n",
              " 'jsm159167',\n",
              " 'ass359',\n",
              " 'yami12',\n",
              " 'woon12',\n",
              " 'tukaxo486',\n",
              " 'trabajonet9',\n",
              " 'servbot88',\n",
              " 'XqMB7vDMzOQocAFV',\n",
              " 'JEQuloqOFUd102',\n",
              " 'mohantra1',\n",
              " 'qopybuxi2',\n",
              " 'jUV4dSDQwNwPpA36',\n",
              " 'w9209640',\n",
              " 'yitbos77',\n",
              " 'qefoquf1uf',\n",
              " 'kjkjkj1',\n",
              " 'snolyuj04',\n",
              " 'spl51190595',\n",
              " 'senghong2009',\n",
              " 'aslpls2009',\n",
              " 'sergius1964',\n",
              " 'spl51190595',\n",
              " 'pmcm110118008',\n",
              " 'acetita478',\n",
              " 'kitty555',\n",
              " 'patty94',\n",
              " '0870330135a',\n",
              " 'clave2013',\n",
              " 'wasanun13',\n",
              " 'lollies1989',\n",
              " 'bugatti01',\n",
              " 'GGmm26120904..',\n",
              " 'mashhood_afzal21087',\n",
              " 'kitty555',\n",
              " 'mussuh4',\n",
              " '16731673ir',\n",
              " '101010hadis',\n",
              " 'RPFUOUDQwMwVW0AS',\n",
              " 'pato221182',\n",
              " 'sydney213',\n",
              " '0112358mayin0',\n",
              " 'demon10',\n",
              " 'examy624',\n",
              " 'patri1973',\n",
              " 'vardhan19',\n",
              " 'overlord3127',\n",
              " 'exitos2009',\n",
              " 'poseidon2011',\n",
              " '123456ts',\n",
              " 'mario489800',\n",
              " 'calcifer32',\n",
              " 'w1ll1ams',\n",
              " 'xf6385494',\n",
              " 'lugerp08',\n",
              " 'okn9zp9o',\n",
              " 'gerardway1',\n",
              " 'franczuk33',\n",
              " 'elonex24',\n",
              " 'sasuke4',\n",
              " 'khurram_',\n",
              " 'aslpls2009',\n",
              " 'elonex24',\n",
              " 'Ju6BIMTU0MwYXtL4',\n",
              " '283671gus',\n",
              " 'ikanez886',\n",
              " 'tspirits08',\n",
              " 'lollies1989',\n",
              " 'lymuvop730',\n",
              " 'nK0yKXTU0NQHZE2e',\n",
              " 'yhwbzci130',\n",
              " 'kyxvufl37',\n",
              " 'GGmm26120904..',\n",
              " 'upomel180',\n",
              " 'bellsuki1',\n",
              " 'yogesh143',\n",
              " 'pacific52',\n",
              " '2fakjv',\n",
              " 'synyxyr723',\n",
              " 'popo0404',\n",
              " 'JEQuloqOFUd102',\n",
              " 'zjl0kx03',\n",
              " 'groster152',\n",
              " 'pxjwmeqyn5',\n",
              " 'gpc151192',\n",
              " 'ahibyg892',\n",
              " 'byeypb2',\n",
              " '72o0yzekib4',\n",
              " 'taulant123',\n",
              " 'wisal1234',\n",
              " 'sasuke4',\n",
              " 'oscar69',\n",
              " 'ykfums1',\n",
              " 'fahad123',\n",
              " 'damyvo114',\n",
              " '4165000yakub',\n",
              " 'teste10',\n",
              " 'kenyu001',\n",
              " 'uou2dae',\n",
              " 'j09000',\n",
              " '7942vikas',\n",
              " 'taulant123',\n",
              " '4fqa52vecr',\n",
              " 'arigato3',\n",
              " 'ebogel225',\n",
              " 'xve33ea',\n",
              " 'whosdabest1',\n",
              " 'yqugu927',\n",
              " '64whbrb351',\n",
              " 'poilkjmnb987',\n",
              " 'clumsy0619',\n",
              " 'zedika521',\n",
              " 'isqizkg1',\n",
              " 'just1n0k',\n",
              " '101010hadis',\n",
              " '838188linh',\n",
              " 'franczuk33',\n",
              " 'josue12',\n",
              " '3vszncp4',\n",
              " 'pastorius88',\n",
              " '6975038lp',\n",
              " 'alchimie79',\n",
              " '1justogax',\n",
              " 'peluchin4',\n",
              " 'mickael12',\n",
              " 'faranumar91',\n",
              " '52756652a',\n",
              " 'jytifok873',\n",
              " 'kVczcljg4OA25Aeb',\n",
              " 'sofietou74',\n",
              " 'uou2dae',\n",
              " 'grazi0201',\n",
              " 'pmcm110118008',\n",
              " 'control9',\n",
              " 'jeeves123',\n",
              " 'jbtcnd6',\n",
              " 'lsdlsd1',\n",
              " 'poluxyj32',\n",
              " 'zcsntdmhe098',\n",
              " 'mega0109',\n",
              " 'cribrot1200',\n",
              " 'uxyloga692',\n",
              " 'megzy123',\n",
              " 'olmaz.',\n",
              " '1597535youssi',\n",
              " 'universe2908',\n",
              " 'a110804032',\n",
              " 'markama10',\n",
              " '1234159hero',\n",
              " '2863e00016',\n",
              " 'lamborghin1',\n",
              " 'colorado27',\n",
              " 'plumilla1',\n",
              " 'krumbul123',\n",
              " 'ebogel225',\n",
              " 'JEQuloqOFUd102',\n",
              " '159951josh',\n",
              " 'a03242241431a',\n",
              " 'h1h2h3h4h5',\n",
              " 'rrilni1747',\n",
              " 'patri1973',\n",
              " 'butisugo39',\n",
              " '4osxw4r',\n",
              " 'keithcutlip99',\n",
              " 'kyodai666',\n",
              " 'senghong2009',\n",
              " 'pedronha96',\n",
              " 'teste10',\n",
              " 'clave08',\n",
              " 'hayhayq2',\n",
              " 'galoucura1',\n",
              " 'jalal123456',\n",
              " 'e667794c1d',\n",
              " 'kunyukbabi69',\n",
              " 'jsm159167',\n",
              " 'hamqrc6',\n",
              " '2akira2',\n",
              " 'oatcake87',\n",
              " 'asakapa22',\n",
              " 'x0004534',\n",
              " 'j03l4ytr1',\n",
              " 'kinga22',\n",
              " '215466kenyi',\n",
              " 'holamundo1',\n",
              " 'xiau5ff',\n",
              " 'pekai2004',\n",
              " 'twil8x0',\n",
              " 'yzxwvgbdu503',\n",
              " 'xawipy995',\n",
              " 'snolyuj04',\n",
              " 'servbot88',\n",
              " 'kenyu001',\n",
              " 'djngeyut2707',\n",
              " 'sd6x9s3s',\n",
              " 'lqksuym982',\n",
              " 'xanyrum650',\n",
              " '4lgYVfzk1MwuzHcn',\n",
              " 'nK0yKXTU0NQHZE2e',\n",
              " '0112358mayin0',\n",
              " '19840510kkk1',\n",
              " 'parent777',\n",
              " 'kzde5577',\n",
              " 'intel1',\n",
              " 'wuzyci421',\n",
              " '123maxbala',\n",
              " 'pilatyj280',\n",
              " 'qopybuxi2',\n",
              " 'bugatti01',\n",
              " 'as8594505',\n",
              " 'yhwbzci130',\n",
              " 'novelia21',\n",
              " 'juany57',\n",
              " 'hodaq103',\n",
              " 'poluxyj32',\n",
              " 'z888888',\n",
              " 'znbl5tj1',\n",
              " 'RPFUOUDQwMwVW0AS',\n",
              " 'amoadios321',\n",
              " 'puegwajy416',\n",
              " 'azerty32',\n",
              " 'd4xQ3LjUwMQFVCYQ',\n",
              " 'whosdabest1',\n",
              " 'upomel180',\n",
              " 'hosna1368',\n",
              " 'Herzberg@ABBOTT33656888commerce',\n",
              " 'faisal213',\n",
              " 'clave2013',\n",
              " 'topgan22',\n",
              " 'mickael12',\n",
              " 'bozoxik602',\n",
              " 'pxjwmeqyn5',\n",
              " 'barboza221294',\n",
              " '1qa2ws3ed4rf',\n",
              " 'WUt9IZzE0OQ7PkNE',\n",
              " 'vardhan19',\n",
              " 'kenneth610',\n",
              " '241189dumai',\n",
              " 'pardalgg5',\n",
              " 'matha81',\n",
              " 'PEPITO00',\n",
              " 'jr88072635',\n",
              " 'go7kew7a2po',\n",
              " 'ixehawojEPe418',\n",
              " 'patri1973',\n",
              " 'killer5',\n",
              " 'sono11',\n",
              " '030005qw',\n",
              " 'smart95',\n",
              " '2akira2',\n",
              " 'tot2531s',\n",
              " 'poilkjmnb987',\n",
              " 'as8594505',\n",
              " 'jsm159167',\n",
              " 'farrukhcse12',\n",
              " 'g067057895',\n",
              " 'hide68',\n",
              " '3f5xd41l0ik7',\n",
              " 'jonothepoop1',\n",
              " 'akucinta12',\n",
              " 'raykuaz32',\n",
              " 'trabajonet9',\n",
              " 'Ju6BIMTU0MwYXtL4',\n",
              " 'afan520307',\n",
              " 'kate13',\n",
              " 'seller1',\n",
              " 'yhwbzci130',\n",
              " 'memjan123',\n",
              " 'c1brb3lt',\n",
              " 'tomas7896',\n",
              " 'il0vey0u',\n",
              " 'xie635891',\n",
              " 'yjuqseb416',\n",
              " 'k9b8cz6aj2',\n",
              " 'alodise603',\n",
              " 'upyjlneg80',\n",
              " 'pxjwmeqyn5',\n",
              " 'jerusalem393',\n",
              " 'deivid1991',\n",
              " 'cyborged69',\n",
              " 'yhwbzci130',\n",
              " 'portales1',\n",
              " 'mdaffandi74',\n",
              " 'yjuqseb416',\n",
              " 'rakag279',\n",
              " '000martin',\n",
              " 'padhila30',\n",
              " 'ineedyou23',\n",
              " 'growerz543',\n",
              " 'j2yj2yj2y',\n",
              " 'woogee04',\n",
              " '123456rajput',\n",
              " 'arigato3',\n",
              " 'hello2104',\n",
              " 'emufat882',\n",
              " '1972vishara',\n",
              " 'zgmfnwuq25',\n",
              " 'plumilla1',\n",
              " 'barra23',\n",
              " 'syjtdxlo81',\n",
              " '5874813o',\n",
              " 'luthien123',\n",
              " '030005qw',\n",
              " 'alodise603',\n",
              " 'demon10',\n",
              " 'naseKoBUMIg295',\n",
              " 'juany57',\n",
              " 'ezekiel720',\n",
              " 'sun4shine76',\n",
              " 'sbnivetha123',\n",
              " 'xf6385494',\n",
              " 'demon10',\n",
              " 'olumide1',\n",
              " 'yitbos77',\n",
              " 'jr88072635',\n",
              " 'shH3t7TcyOQwKRLt',\n",
              " 'nLIGyhTU1NQTAp6u',\n",
              " '8521901bzk',\n",
              " 'uqilyni846',\n",
              " 'moimoimoi9',\n",
              " 'virush1n1',\n",
              " 'universe2908',\n",
              " 'jsm159167',\n",
              " '159951josh',\n",
              " '090mca090',\n",
              " '123456789YO',\n",
              " 'ineedyou23',\n",
              " 'elonex24',\n",
              " 'mickael12',\n",
              " 'alodise603',\n",
              " 'ydd45ee',\n",
              " '05bumd',\n",
              " 'daylit9',\n",
              " '147963asd',\n",
              " 'tin030201',\n",
              " 'mickael12',\n",
              " 'woogee04',\n",
              " 'y0unus',\n",
              " 'mmm23mm',\n",
              " 'marita1',\n",
              " 'wycinu436',\n",
              " 'byeypb2',\n",
              " 'jr88072635',\n",
              " '01161590m',\n",
              " 'krishna2',\n",
              " 'faqih82',\n",
              " 'lqksuym982',\n",
              " '7l1hu1xa',\n",
              " 'asgaliu11',\n",
              " 'a2531106',\n",
              " 'kenyu001',\n",
              " 'kah4544875',\n",
              " 'urban1',\n",
              " 'iacool99',\n",
              " 'kciseba24521',\n",
              " 'josue12',\n",
              " 'sydney213',\n",
              " 'jcav26',\n",
              " 'ypodahe201',\n",
              " 'icap12',\n",
              " 'wxS2ztDk4OATjBfI',\n",
              " 'sqsn7a9',\n",
              " 'czuodhj972',\n",
              " 'openup12',\n",
              " 'z888888',\n",
              " 'irivur594',\n",
              " 'plumilla1',\n",
              " 'rLLh4WDQ2OAWbDO5',\n",
              " 'RRaa--72783530081984',\n",
              " 'frenchtoast42',\n",
              " 'ab11223344',\n",
              " '7942vikas',\n",
              " 'mussuh4',\n",
              " 'g067057895',\n",
              " 'ldteugao6',\n",
              " '123net123',\n",
              " 'juliel009',\n",
              " 'shotiko18',\n",
              " 'a110804032',\n",
              " 'GGmm26120904..',\n",
              " 'clave08',\n",
              " 'RqsuUsDYxNgr8T40',\n",
              " '17.10.08',\n",
              " 'uzifyc502',\n",
              " 'fr8OClDY1MAdEhHa',\n",
              " 'pHyqueDIyNQ8vmhb',\n",
              " 'emufat882',\n",
              " '52756652a',\n",
              " 'qwekl12',\n",
              " 'okn9zp9o',\n",
              " 'iubat09',\n",
              " 'zidadoh258',\n",
              " 'rqmswof2llb0',\n",
              " 'joy112495',\n",
              " 'ab11223344',\n",
              " 'pukiw102',\n",
              " 'amandine666',\n",
              " 'v1s2c3456',\n",
              " 'bb9530',\n",
              " 'ppnyadam09',\n",
              " 'amoadios321',\n",
              " 'tukaxo486',\n",
              " 'kdl9cl53',\n",
              " '1satguru1',\n",
              " 'ldteugao6',\n",
              " 'taulant123',\n",
              " 'ginger972',\n",
              " 'pilatyj280',\n",
              " 'akucinta12',\n",
              " 'wycinu436',\n",
              " 'saule123',\n",
              " 'c1brb3lt',\n",
              " 'itengf12',\n",
              " 'g067057895',\n",
              " 'sono11',\n",
              " 'bghuyku37',\n",
              " 'xp;ysmybst',\n",
              " 'osimeytju12',\n",
              " 'mialr325',\n",
              " '631ihOZogELoVap',\n",
              " 'ydd45ee',\n",
              " 'islamasma12',\n",
              " 'z7zbgIDkzMQeHUd9',\n",
              " '2yz4ewwg',\n",
              " 'mdaffandi74',\n",
              " 'r0cker',\n",
              " 'examy624',\n",
              " 'admin123',\n",
              " 'ebacuro434',\n",
              " 'nK0yKXTU0NQHZE2e',\n",
              " 'bgrvl80',\n",
              " 'alimagik1',\n",
              " 'amandine666',\n",
              " 'sqsn7a9',\n",
              " 'rakag279',\n",
              " 'colorado27',\n",
              " 'z888888',\n",
              " 'paul2007',\n",
              " 'vijay1995',\n",
              " 'mickael12',\n",
              " 'moken7',\n",
              " 'jekkmoeder>',\n",
              " 'orejuby808',\n",
              " 'xie635891',\n",
              " 'bellsuki1',\n",
              " 'kashyn777',\n",
              " '159951josh',\n",
              " 'kashyn777',\n",
              " 'exusop649',\n",
              " 'buqodym199',\n",
              " 'rwxhzyn4',\n",
              " 'tin030201',\n",
              " '6U3xJzDE3Nggz3L1',\n",
              " 'grazi0201',\n",
              " 'mikrochip0',\n",
              " 'control9',\n",
              " '27121995qw',\n",
              " 'elabadmin1386',\n",
              " '600eretz',\n",
              " 'pugceya468',\n",
              " 'llahetihw1',\n",
              " 'z888888',\n",
              " '5gzj5uf',\n",
              " 'ufoduvo540',\n",
              " 'komorek11',\n",
              " 'edcmki90',\n",
              " 'ok>bdk',\n",
              " '5874813o',\n",
              " 'satrjcrj6',\n",
              " 'asakapa22',\n",
              " 'shotiko18',\n",
              " '5874813o',\n",
              " 'han19660120',\n",
              " '763EBFC5',\n",
              " 'purpledog1992',\n",
              " 'orzwnyj91',\n",
              " 'g067057895',\n",
              " 'ilunia20',\n",
              " 'osimeytju12',\n",
              " 'nelva20',\n",
              " '2fakjv',\n",
              " 'RqsuUsDYxNgr8T40',\n",
              " 'isqizkg1',\n",
              " 'RRaa--72783530081984',\n",
              " '52756652a',\n",
              " 'fr8OClDY1MAdEhHa',\n",
              " 'satrjcrj6',\n",
              " ...]"
            ]
          },
          "metadata": {
            "tags": []
          },
          "execution_count": 11
        }
      ]
    },
    {
      "cell_type": "code",
      "metadata": {
        "id": "HyljjH0aQVUQ",
        "colab_type": "code",
        "colab": {
          "base_uri": "https://localhost:8080/",
          "height": 350
        },
        "outputId": "0ef04416-7f23-469c-82c2-e36fd634230b"
      },
      "source": [
        "import seaborn as sns\n",
        "sns.countplot(x='strength',data=data)"
      ],
      "execution_count": 12,
      "outputs": [
        {
          "output_type": "stream",
          "text": [
            "/usr/local/lib/python3.6/dist-packages/statsmodels/tools/_testing.py:19: FutureWarning: pandas.util.testing is deprecated. Use the functions in the public API at pandas.testing instead.\n",
            "  import pandas.util.testing as tm\n"
          ],
          "name": "stderr"
        },
        {
          "output_type": "execute_result",
          "data": {
            "text/plain": [
              "<matplotlib.axes._subplots.AxesSubplot at 0x7f7f63d43da0>"
            ]
          },
          "metadata": {
            "tags": []
          },
          "execution_count": 12
        },
        {
          "output_type": "display_data",
          "data": {
            "image/png": "[encoded data removed]",
            "text/plain": [
              "<Figure size 432x288 with 1 Axes>"
            ]
          },
          "metadata": {
            "tags": [],
            "needs_background": "light"
          }
        }
      ]
    },
    {
      "cell_type": "markdown",
      "metadata": {
        "id": "bpem0V2FQyK8",
        "colab_type": "text"
      },
      "source": [
        "we vertorizing the char , if we vectorize the words it will be very large and chace of over fitting."
      ]
    },
    {
      "cell_type": "code",
      "metadata": {
        "id": "W9aw3g-GXQH3",
        "colab_type": "code",
        "colab": {}
      },
      "source": [
        "def word_divider_char(inputs):\n",
        "    characters=[]\n",
        "    for i in inputs:\n",
        "       characters.append(i)\n",
        "    return characters\n",
        "  \n"
      ],
      "execution_count": 13,
      "outputs": []
    },
    {
      "cell_type": "code",
      "metadata": {
        "id": "8Z-WNs94XQpk",
        "colab_type": "code",
        "colab": {}
      },
      "source": [
        "from sklearn.feature_extraction.text import TfidfVectorizer\n",
        "vectorizer=TfidfVectorizer(tokenizer=word_divider_char)\n",
        "X=vectorizer.fit_transform(x)"
      ],
      "execution_count": 14,
      "outputs": []
    },
    {
      "cell_type": "code",
      "metadata": {
        "id": "BNA4VVYTapKT",
        "colab_type": "code",
        "colab": {
          "base_uri": "https://localhost:8080/",
          "height": 34
        },
        "outputId": "b96c6d17-479b-48de-e9eb-21d00efe5677"
      },
      "source": [
        "X.shape"
      ],
      "execution_count": 15,
      "outputs": [
        {
          "output_type": "execute_result",
          "data": {
            "text/plain": [
              "(669639, 130)"
            ]
          },
          "metadata": {
            "tags": []
          },
          "execution_count": 15
        }
      ]
    },
    {
      "cell_type": "code",
      "metadata": {
        "id": "KRgYaV24atH8",
        "colab_type": "code",
        "colab": {
          "base_uri": "https://localhost:8080/",
          "height": 35
        },
        "outputId": "892e2bc3-960c-4abc-d2e1-8d892854acfd"
      },
      "source": [
        "x[0]"
      ],
      "execution_count": 16,
      "outputs": [
        {
          "output_type": "execute_result",
          "data": {
            "application/vnd.google.colaboratory.intrinsic+json": {
              "type": "string"
            },
            "text/plain": [
              "'kzde5577'"
            ]
          },
          "metadata": {
            "tags": []
          },
          "execution_count": 16
        }
      ]
    },
    {
      "cell_type": "code",
      "metadata": {
        "id": "aEQtxC99RYUR",
        "colab_type": "code",
        "colab": {
          "base_uri": "https://localhost:8080/",
          "height": 1000
        },
        "outputId": "dbee1d12-cfde-4de0-9141-94368b81f672"
      },
      "source": [
        "vectorizer.vocabulary_      # we can see the vectorize values of charectors"
      ],
      "execution_count": 17,
      "outputs": [
        {
          "output_type": "execute_result",
          "data": {
            "text/plain": [
              "{'\\x04': 0,\n",
              " '\\x05': 1,\n",
              " '\\x06': 2,\n",
              " '\\x08': 3,\n",
              " '\\x0e': 4,\n",
              " '\\x0f': 5,\n",
              " '\\x10': 6,\n",
              " '\\x11': 7,\n",
              " '\\x12': 8,\n",
              " '\\x16': 9,\n",
              " '\\x17': 10,\n",
              " '\\x18': 11,\n",
              " '\\x19': 12,\n",
              " '\\x1b': 13,\n",
              " '\\x1c': 14,\n",
              " '\\x1e': 15,\n",
              " ' ': 16,\n",
              " '!': 17,\n",
              " '\"': 18,\n",
              " '#': 19,\n",
              " '$': 20,\n",
              " '%': 21,\n",
              " '&': 22,\n",
              " '(': 23,\n",
              " ')': 24,\n",
              " '*': 25,\n",
              " '+': 26,\n",
              " '-': 27,\n",
              " '.': 28,\n",
              " '/': 29,\n",
              " '0': 30,\n",
              " '1': 31,\n",
              " '2': 32,\n",
              " '3': 33,\n",
              " '4': 34,\n",
              " '5': 35,\n",
              " '6': 36,\n",
              " '7': 37,\n",
              " '8': 38,\n",
              " '9': 39,\n",
              " ';': 40,\n",
              " '<': 41,\n",
              " '=': 42,\n",
              " '>': 43,\n",
              " '?': 44,\n",
              " '@': 45,\n",
              " '[': 46,\n",
              " '\\\\': 47,\n",
              " ']': 48,\n",
              " '^': 49,\n",
              " '_': 50,\n",
              " '`': 51,\n",
              " 'a': 52,\n",
              " 'b': 53,\n",
              " 'c': 54,\n",
              " 'd': 55,\n",
              " 'e': 56,\n",
              " 'f': 57,\n",
              " 'g': 58,\n",
              " 'h': 59,\n",
              " 'i': 60,\n",
              " 'j': 61,\n",
              " 'k': 62,\n",
              " 'l': 63,\n",
              " 'm': 64,\n",
              " 'n': 65,\n",
              " 'o': 66,\n",
              " 'p': 67,\n",
              " 'q': 68,\n",
              " 'r': 69,\n",
              " 's': 70,\n",
              " 't': 71,\n",
              " 'u': 72,\n",
              " 'v': 73,\n",
              " 'w': 74,\n",
              " 'x': 75,\n",
              " 'y': 76,\n",
              " 'z': 77,\n",
              " '{': 78,\n",
              " '|': 79,\n",
              " '}': 80,\n",
              " '~': 81,\n",
              " '\\x7f': 82,\n",
              " '\\xa0': 83,\n",
              " '¡': 84,\n",
              " '¦': 85,\n",
              " '¨': 86,\n",
              " '«': 87,\n",
              " '°': 88,\n",
              " '±': 89,\n",
              " '²': 90,\n",
              " '³': 91,\n",
              " '´': 92,\n",
              " 'µ': 93,\n",
              " '¶': 94,\n",
              " '·': 95,\n",
              " '¹': 96,\n",
              " 'º': 97,\n",
              " '¾': 98,\n",
              " '¿': 99,\n",
              " 'ß': 100,\n",
              " 'à': 101,\n",
              " 'á': 102,\n",
              " 'â': 103,\n",
              " 'ä': 104,\n",
              " 'å': 105,\n",
              " 'æ': 106,\n",
              " 'ç': 107,\n",
              " 'è': 108,\n",
              " 'é': 109,\n",
              " 'ê': 110,\n",
              " 'í': 111,\n",
              " 'ï': 112,\n",
              " 'ð': 113,\n",
              " 'ñ': 114,\n",
              " 'ò': 115,\n",
              " 'ó': 116,\n",
              " 'ô': 117,\n",
              " 'õ': 118,\n",
              " 'ö': 119,\n",
              " '÷': 120,\n",
              " 'ú': 121,\n",
              " 'û': 122,\n",
              " 'ý': 123,\n",
              " 'þ': 124,\n",
              " 'ÿ': 125,\n",
              " '—': 126,\n",
              " '‚': 127,\n",
              " '›': 128,\n",
              " '™': 129}"
            ]
          },
          "metadata": {
            "tags": []
          },
          "execution_count": 17
        }
      ]
    },
    {
      "cell_type": "code",
      "metadata": {
        "id": "L3d5KR9qUoLE",
        "colab_type": "code",
        "colab": {}
      },
      "source": [
        "from sklearn.model_selection import train_test_split\n",
        "x_train,x_test,y_train,y_test=train_test_split(X,y,test_size=0.33)"
      ],
      "execution_count": 18,
      "outputs": []
    },
    {
      "cell_type": "code",
      "metadata": {
        "id": "_1B-slnEV2Zq",
        "colab_type": "code",
        "colab": {
          "base_uri": "https://localhost:8080/",
          "height": 530
        },
        "outputId": "80cade12-834b-437c-c1fc-0e3a52922985"
      },
      "source": [
        "from sklearn.linear_model import LogisticRegression\n",
        "log_cls=LogisticRegression(penalty='l2',multi_class='ovr')\n",
        "log_cls.fit(x_train,y_train)"
      ],
      "execution_count": 19,
      "outputs": [
        {
          "output_type": "stream",
          "text": [
            "/usr/local/lib/python3.6/dist-packages/sklearn/linear_model/_logistic.py:940: ConvergenceWarning: lbfgs failed to converge (status=1):\n",
            "STOP: TOTAL NO. of ITERATIONS REACHED LIMIT.\n",
            "\n",
            "Increase the number of iterations (max_iter) or scale the data as shown in:\n",
            "    https://scikit-learn.org/stable/modules/preprocessing.html\n",
            "Please also refer to the documentation for alternative solver options:\n",
            "    https://scikit-learn.org/stable/modules/linear_model.html#logistic-regression\n",
            "  extra_warning_msg=_LOGISTIC_SOLVER_CONVERGENCE_MSG)\n",
            "/usr/local/lib/python3.6/dist-packages/sklearn/linear_model/_logistic.py:940: ConvergenceWarning: lbfgs failed to converge (status=1):\n",
            "STOP: TOTAL NO. of ITERATIONS REACHED LIMIT.\n",
            "\n",
            "Increase the number of iterations (max_iter) or scale the data as shown in:\n",
            "    https://scikit-learn.org/stable/modules/preprocessing.html\n",
            "Please also refer to the documentation for alternative solver options:\n",
            "    https://scikit-learn.org/stable/modules/linear_model.html#logistic-regression\n",
            "  extra_warning_msg=_LOGISTIC_SOLVER_CONVERGENCE_MSG)\n",
            "/usr/local/lib/python3.6/dist-packages/sklearn/linear_model/_logistic.py:940: ConvergenceWarning: lbfgs failed to converge (status=1):\n",
            "STOP: TOTAL NO. of ITERATIONS REACHED LIMIT.\n",
            "\n",
            "Increase the number of iterations (max_iter) or scale the data as shown in:\n",
            "    https://scikit-learn.org/stable/modules/preprocessing.html\n",
            "Please also refer to the documentation for alternative solver options:\n",
            "    https://scikit-learn.org/stable/modules/linear_model.html#logistic-regression\n",
            "  extra_warning_msg=_LOGISTIC_SOLVER_CONVERGENCE_MSG)\n"
          ],
          "name": "stderr"
        },
        {
          "output_type": "execute_result",
          "data": {
            "text/plain": [
              "LogisticRegression(C=1.0, class_weight=None, dual=False, fit_intercept=True,\n",
              "                   intercept_scaling=1, l1_ratio=None, max_iter=100,\n",
              "                   multi_class='ovr', n_jobs=None, penalty='l2',\n",
              "                   random_state=None, solver='lbfgs', tol=0.0001, verbose=0,\n",
              "                   warm_start=False)"
            ]
          },
          "metadata": {
            "tags": []
          },
          "execution_count": 19
        }
      ]
    },
    {
      "cell_type": "code",
      "metadata": {
        "id": "L5CMS3Sxc8ai",
        "colab_type": "code",
        "colab": {
          "base_uri": "https://localhost:8080/",
          "height": 34
        },
        "outputId": "6a7aa85f-d1cb-4f0d-97bf-070af9e50d0d"
      },
      "source": [
        "print(log_cls.score(x_test,y_test))"
      ],
      "execution_count": 20,
      "outputs": [
        {
          "output_type": "stream",
          "text": [
            "0.8110425783212132\n"
          ],
          "name": "stdout"
        }
      ]
    },
    {
      "cell_type": "code",
      "metadata": {
        "id": "_s7LkR49ds3P",
        "colab_type": "code",
        "colab": {
          "base_uri": "https://localhost:8080/",
          "height": 34
        },
        "outputId": "0ac00a32-b57d-4256-b0f7-d204bc86d3b8"
      },
      "source": [
        "X_predict=np.array([\"Mani@232\"])\n",
        "X_predict=vectorizer.transform(X_predict)\n",
        "y_pred=log_cls.predict(X_predict)\n",
        "def password_strength(password):\n",
        "  if password==0:\n",
        "    print('your password Strength is week')\n",
        "  elif password==1:\n",
        "    print('your password Strength is Medium')\n",
        "  elif password==2:\n",
        "    print('your password Strength is Strong')\n",
        "password_strength(y_pred)\n"
      ],
      "execution_count": 29,
      "outputs": [
        {
          "output_type": "stream",
          "text": [
            "your password Strength is Medium\n"
          ],
          "name": "stdout"
        }
      ]
    },
    {
      "cell_type": "code",
      "metadata": {
        "id": "mHjXciVn9L4O",
        "colab_type": "code",
        "colab": {}
      },
      "source": [
        "import xgboost as xgb"
      ],
      "execution_count": 22,
      "outputs": []
    },
    {
      "cell_type": "code",
      "metadata": {
        "id": "AB-urfpejAbX",
        "colab_type": "code",
        "colab": {}
      },
      "source": [
        "xgb_classifier=xgb.XGBClassifier()"
      ],
      "execution_count": 23,
      "outputs": []
    },
    {
      "cell_type": "code",
      "metadata": {
        "id": "zVTob0pS-RAs",
        "colab_type": "code",
        "colab": {
          "base_uri": "https://localhost:8080/",
          "height": 136
        },
        "outputId": "bcb4c4d8-787c-4511-e745-999cb0ca73fe"
      },
      "source": [
        "xgb_classifier.fit(x_train,y_train)"
      ],
      "execution_count": 24,
      "outputs": [
        {
          "output_type": "execute_result",
          "data": {
            "text/plain": [
              "XGBClassifier(base_score=0.5, booster='gbtree', colsample_bylevel=1,\n",
              "              colsample_bynode=1, colsample_bytree=1, gamma=0,\n",
              "              learning_rate=0.1, max_delta_step=0, max_depth=3,\n",
              "              min_child_weight=1, missing=None, n_estimators=100, n_jobs=1,\n",
              "              nthread=None, objective='multi:softprob', random_state=0,\n",
              "              reg_alpha=0, reg_lambda=1, scale_pos_weight=1, seed=None,\n",
              "              silent=None, subsample=1, verbosity=1)"
            ]
          },
          "metadata": {
            "tags": []
          },
          "execution_count": 24
        }
      ]
    },
    {
      "cell_type": "code",
      "metadata": {
        "id": "le-l7Qkc-lxT",
        "colab_type": "code",
        "colab": {
          "base_uri": "https://localhost:8080/",
          "height": 34
        },
        "outputId": "1b128f22-5209-4aae-ca25-a445af9a2e80"
      },
      "source": [
        "xgb_classifier.score(x_test,y_test)"
      ],
      "execution_count": 25,
      "outputs": [
        {
          "output_type": "execute_result",
          "data": {
            "text/plain": [
              "0.9143274761178563"
            ]
          },
          "metadata": {
            "tags": []
          },
          "execution_count": 25
        }
      ]
    },
    {
      "cell_type": "code",
      "metadata": {
        "id": "CWuM5ipB_eWH",
        "colab_type": "code",
        "colab": {
          "base_uri": "https://localhost:8080/",
          "height": 34
        },
        "outputId": "074e4d32-f3eb-4afa-efb2-9e179e2dd63f"
      },
      "source": [
        "y_pred2=xgb_classifier.predict(vectorizer.transform(np.array(['MKL*963.'])))\n",
        "password_strength(y_pred)\n"
      ],
      "execution_count": 30,
      "outputs": [
        {
          "output_type": "stream",
          "text": [
            "your password Strength is Medium\n"
          ],
          "name": "stdout"
        }
      ]
    },
    {
      "cell_type": "code",
      "metadata": {
        "id": "4Nxvf2Xj_wYM",
        "colab_type": "code",
        "colab": {
          "base_uri": "https://localhost:8080/",
          "height": 34
        },
        "outputId": "4f766159-5401-4553-e9f6-d08fe9fba985"
      },
      "source": [
        "y_pred2=xgb_classifier.predict(vectorizer.transform(np.array(['MKL*(*&!'])))\n",
        "password_strength(y_pred)\n"
      ],
      "execution_count": 33,
      "outputs": [
        {
          "output_type": "stream",
          "text": [
            "your password Strength is Medium\n"
          ],
          "name": "stdout"
        }
      ]
    },
    {
      "cell_type": "code",
      "metadata": {
        "id": "PMncX_P0Ae3g",
        "colab_type": "code",
        "colab": {}
      },
      "source": [
        ""
      ],
      "execution_count": null,
      "outputs": []
    }
  ]
}